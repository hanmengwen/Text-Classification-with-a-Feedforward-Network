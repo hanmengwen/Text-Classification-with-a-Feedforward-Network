{
 "cells": [
  {
   "cell_type": "markdown",
   "metadata": {},
   "source": [
    "# [COM4513-6513] Assignment 2: Text Classification with a Feedforward Network\n",
    "\n",
    "\n",
    "### Instructor: Nikos Aletras\n",
    "\n",
    "\n",
    "The goal of this assignment is to develop a Feedforward network for text classification. \n",
    "\n",
    "\n",
    "\n",
    "For that purpose, you will implement:\n",
    "\n",
    "- Text processing methods for transforming raw text data into input vectors for your network  (**1 mark**)\n",
    "- A Feedforward network consisting of:\n",
    "    - **One-hot** input layer mapping words into an **Embedding weight matrix** (**1 mark**)\n",
    "    - **One hidden layer** computing the mean embedding vector of all words in input followed by a **ReLU activation function** (**1 mark**)\n",
    "    - **Output layer** with a **softmax** activation. (**1 mark**)\n",
    "- The Stochastic Gradient Descent (SGD) algorithm with **back-propagation** to learn the weights of your Neural network. Your algorithm should:\n",
    "    - Use (and minimise) the **Categorical Cross-entropy loss** function (**1 mark**)\n",
    "    - Perform a **Forward pass** to compute intermediate outputs (**4 marks**)\n",
    "    - Perform a **Backward pass** to compute gradients and update all sets of weights (**4 marks**)\n",
    "    - Implement and use **Dropout** after each hidden layer for regularisation (**2 marks**)\n",
    "- Discuss how did you choose hyperparameters? You can tune the learning rate (hint: choose small values), embedding size {e.g. 50, 300, 500}, the dropout rate {e.g. 0.2, 0.5} and the learning rate. Please use tables or graphs to show training and validation performance for each hyperparam combination  (**2 marks**). \n",
    "- After training the model, plot the learning process (i.e. training and validation loss in each epoch) using a line plot and report accuracy.\n",
    "- Re-train your network by using pre-trained embeddings ([GloVe](https://nlp.stanford.edu/projects/glove/)) trained on large corpora. Instead of randomly initialising the embedding weights matrix, you should initialise it with the pre-trained weights. During training, you should not update them (i.e. weight freezing) and backprop should stop before computing gradients for updating embedding weights. Report results by performing hyperparameter tuning and plotting the learning process. Do you get better performance? (**3 marks**).\n",
    "\n",
    "- **BONUS:** Extend you Feedforward network by adding more hidden layers (e.g. one more). How does it affect the performance? Note: You need to repeat hyperparameter tuning, but the number of combinations grows exponentially. Therefore, you need to choose a subset of all possible combinations (**+2 extra marks**)\n",
    "\n",
    "\n",
    "\n",
    "### Data \n",
    "\n",
    "The data you will use for Task 2 is a subset of the [AG News Corpus](http://groups.di.unipi.it/~gulli/AG_corpus_of_news_articles.html) and you can find it in the `./data_topic` folder in CSV format:\n",
    "\n",
    "- `data_topic/train.csv`: contains 2,400 news articles, 800 for each class to be used for training.\n",
    "- `data_topic/dev.csv`: contains 150 news articles, 50 for each class to be used for hyperparameter selection and monitoring the training process.\n",
    "- `data_topic/test.csv`: contains 900 news articles, 300 for each class to be used for testing.\n",
    "\n",
    "### Pre-trained Embeddings\n",
    "\n",
    "You can download pre-trained GloVe embeddings trained on Common Crawl (840B tokens, 2.2M vocab, cased, 300d vectors, 2.03 GB download) from [here](http://nlp.stanford.edu/data/glove.840B.300d.zip). No need to unzip, the file is large.\n",
    "\n",
    "### Save Memory\n",
    "\n",
    "To save RAM, when you finish each experiment you can delete the weights of your network using `del W` followed by Python's garbage collector `gc.collect()`\n",
    "\n",
    "\n",
    "\n",
    "\n",
    "### Submission Instructions\n",
    "\n",
    "You should submit a Jupyter Notebook file (assignment2.ipynb) and an exported PDF version (you can do it from Jupyter: `File->Download as->PDF via Latex`).\n",
    "\n",
    "You are advised to follow the code structure given in this notebook by completing all given funtions. You can also write any auxilliary/helper functions (and arguments for the functions) that you might need but note that you can provide a full solution without any such functions. Similarly, you can just use only the packages imported below but you are free to use any functionality from the [Python Standard Library](https://docs.python.org/2/library/index.html), NumPy, SciPy and Pandas. You are not allowed to use any third-party library such as Scikit-learn (apart from metric functions already provided), NLTK, Spacy, Keras etc.. You are allowed to re-use your code from Assignment 1.\n",
    "\n",
    "Please make sure to comment your code. You should also mention if you've used Windows to write and test your code. There is no single correct answer on what your accuracy should be, but correct implementations usually achieve F1 of ~75-80% and ~85% without and with using pre-trained embeddings respectively. \n",
    "\n",
    "This assignment will be marked out of 20. It is worth 20\\% of your final grade in the module. If you implement the bonus question you can get up to 2 extra points but your final grade will be capped at 20.\n",
    "\n",
    "The deadline for this assignment is **23:59 on Mon, 18 May 2020** and it needs to be submitted via Blackboard (MOLE). Standard departmental penalties for lateness will be applied. We use a range of strategies to detect [unfair means](https://www.sheffield.ac.uk/ssid/unfair-means/index), including Turnitin which helps detect plagiarism, so make sure you do not plagiarise.\n",
    "\n"
   ]
  },
  {
   "cell_type": "code",
   "execution_count": 329,
   "metadata": {
    "ExecuteTime": {
     "end_time": "2020-04-02T15:00:18.625532Z",
     "start_time": "2020-04-02T15:00:17.377733Z"
    }
   },
   "outputs": [],
   "source": [
    "import pandas as pd\n",
    "import numpy as np\n",
    "from collections import Counter\n",
    "import re\n",
    "import matplotlib.pyplot as plt\n",
    "from sklearn.metrics import accuracy_score, precision_score, recall_score, f1_score\n",
    "import random\n",
    "from time import localtime, strftime\n",
    "from scipy.stats import spearmanr,pearsonr\n",
    "import zipfile\n",
    "import gc\n",
    "\n",
    "# fixing random seed for reproducibility\n",
    "random.seed(123)\n",
    "np.random.seed(123)\n"
   ]
  },
  {
   "cell_type": "markdown",
   "metadata": {},
   "source": [
    "## Transform Raw texts into training and development data\n",
    "\n",
    "First, you need to load the training, development and test sets from their corresponding CSV files (tip: you can use Pandas dataframes)."
   ]
  },
  {
   "cell_type": "code",
   "execution_count": 330,
   "metadata": {
    "ExecuteTime": {
     "end_time": "2020-04-02T14:26:39.748484Z",
     "start_time": "2020-04-02T14:26:39.727404Z"
    }
   },
   "outputs": [],
   "source": [
    "# load the training, development and test sets \n",
    "training = pd.read_csv('data_topic/train.csv',header=-1)\n",
    "development = pd.read_csv('data_topic/dev.csv',header=-1)\n",
    "test_sets = pd.read_csv('data_topic/test.csv',header=-1)"
   ]
  },
  {
   "cell_type": "code",
   "execution_count": 331,
   "metadata": {
    "ExecuteTime": {
     "end_time": "2020-04-02T14:26:39.753874Z",
     "start_time": "2020-04-02T14:26:39.749647Z"
    }
   },
   "outputs": [],
   "source": [
    "# put the raw texts into Python lists\n",
    "train_list=training.values.tolist()\n",
    "development_list=development.values.tolist()\n",
    "test_sets_list=test_sets.values.tolist()"
   ]
  },
  {
   "cell_type": "code",
   "execution_count": 332,
   "metadata": {},
   "outputs": [],
   "source": [
    "def get_rawX(data):\n",
    "    rawlist=[]\n",
    "    for i in range(0,len(data)):\n",
    "        rawlist.append(data[i][1])\n",
    "        #print(data[i][0])\n",
    "    return rawlist#  a list of s"
   ]
  },
  {
   "cell_type": "code",
   "execution_count": 333,
   "metadata": {},
   "outputs": [],
   "source": [
    "train_raw=get_rawX(train_list)\n",
    "dev_raw=get_rawX(development_list)\n",
    "test_raw=get_rawX(test_sets_list)"
   ]
  },
  {
   "cell_type": "code",
   "execution_count": 637,
   "metadata": {},
   "outputs": [],
   "source": [
    "# All words in lowercase\n",
    "train_raw = [s.lower() for s in train_raw if isinstance(s,str)]\n",
    "dev_raw = [s.lower() for s in dev_raw if isinstance(s,str)]\n",
    "test_raw = [s.lower() for s in test_raw if isinstance(s,str)]"
   ]
  },
  {
   "cell_type": "markdown",
   "metadata": {},
   "source": [
    "# Create input representations\n",
    "\n",
    "\n",
    "To train your Feedforward network, you first need to obtain input representations given a vocabulary. One-hot encoding requires large memory capacity. Therefore, we will instead represent documents as lists of vocabulary indices (each word corresponds to a vocabulary index). \n",
    "\n",
    "\n",
    "## Text Pre-Processing Pipeline\n",
    "\n",
    "To obtain a vocabulary of words. You should: \n",
    "- tokenise all texts into a list of unigrams (tip: you can re-use the functions from Assignment 1) \n",
    "- remove stop words (using the one provided or one of your preference) \n",
    "- remove unigrams appearing in less than K documents\n",
    "- use the remaining to create a vocabulary of the top-N most frequent unigrams in the entire corpus.\n"
   ]
  },
  {
   "cell_type": "code",
   "execution_count": 638,
   "metadata": {
    "ExecuteTime": {
     "end_time": "2020-04-02T14:26:40.851926Z",
     "start_time": "2020-04-02T14:26:40.847500Z"
    }
   },
   "outputs": [],
   "source": [
    "stop_words = ['a','in','on','at','and','or', \n",
    "              'to', 'the', 'of', 'an', 'by', \n",
    "              'as', 'is', 'was', 'were', 'been', 'be', \n",
    "              'are','for', 'this', 'that', 'these', 'those', 'you', 'i', 'if',\n",
    "             'it', 'he', 'she', 'we', 'they', 'will', 'have', 'has',\n",
    "              'do', 'did', 'can', 'could', 'who', 'which', 'what',\n",
    "              'but', 'not', 'there', 'no', 'does', 'not', 'so', 've', 'their',\n",
    "             'his', 'her', 'they', 'them', 'from', 'with', 'its']\n"
   ]
  },
  {
   "cell_type": "markdown",
   "metadata": {},
   "source": [
    "### Unigram extraction from a document\n",
    "\n",
    "You first need to implement the `extract_ngrams` function. It takes as input:\n",
    "- `x_raw`: a string corresponding to the raw text of a document\n",
    "- `ngram_range`: a tuple of two integers denoting the type of ngrams you want to extract, e.g. (1,2) denotes extracting unigrams and bigrams.\n",
    "- `token_pattern`: a string to be used within a regular expression to extract all tokens. Note that data is already tokenised so you could opt for a simple white space tokenisation.\n",
    "- `stop_words`: a list of stop words\n",
    "- `vocab`: a given vocabulary. It should be used to extract specific features.\n",
    "\n",
    "and returns:\n",
    "\n",
    "- a list of all extracted features.\n"
   ]
  },
  {
   "cell_type": "code",
   "execution_count": 639,
   "metadata": {
    "ExecuteTime": {
     "end_time": "2020-04-02T14:26:41.505459Z",
     "start_time": "2020-04-02T14:26:41.498388Z"
    }
   },
   "outputs": [],
   "source": [
    "def extract_ngrams(x_raw, ngram_range=(1,3), token_pattern=r'\\b[A-Za-z][A-Za-z]+\\b', stop_words=[], vocab=set()):\n",
    "    a=re.findall(token_pattern,x_raw)\n",
    "    resultlist=[]\n",
    "    b=[]\n",
    "    #remove stoplist\n",
    "    for i in a:\n",
    "        if i not in stop_words:\n",
    "            b.append(i)\n",
    "    \n",
    "    for i in b:\n",
    "        resultlist.append(i) \n",
    "        \n",
    "    if ngram_range==(1,2):\n",
    "        i=0\n",
    "        for i in range(0,len(b)-1):\n",
    "            tuble=(b[i],b[i+1])\n",
    "            resultlist.append(tuble)\n",
    "            \n",
    "    if ngram_range==(1,3):\n",
    "        i=0\n",
    "        for i in range(0,len(b)-1):\n",
    "            tuble=(b[i],b[i+1])\n",
    "            \n",
    "            resultlist.append(tuble)  \n",
    "        j=0\n",
    "        for j in range(0,len(b)-2):\n",
    "            tuble=(b[j],b[j+1],b[j+2])\n",
    "            resultlist.append(tuble)\n",
    "    if vocab==set():    \n",
    "        return resultlist  \n",
    "    else:\n",
    "        resultlist2=[]\n",
    "        for i in resultlist:\n",
    "            if i in vocab:\n",
    "                resultlist2.append(i)\n",
    "        return resultlist2\n",
    "\n"
   ]
  },
  {
   "cell_type": "markdown",
   "metadata": {},
   "source": [
    "### Create a vocabulary of n-grams\n",
    "\n",
    "Then the `get_vocab` function will be used to (1) create a vocabulary of ngrams; (2) count the document frequencies of ngrams; (3) their raw frequency. It takes as input:\n",
    "- `X_raw`: a list of strings each corresponding to the raw text of a document\n",
    "- `ngram_range`: a tuple of two integers denoting the type of ngrams you want to extract, e.g. (1,2) denotes extracting unigrams and bigrams.\n",
    "- `token_pattern`: a string to be used within a regular expression to extract all tokens. Note that data is already tokenised so you could opt for a simple white space tokenisation.\n",
    "- `stop_words`: a list of stop words\n",
    "- `min_df`: keep ngrams with a minimum document frequency.\n",
    "- `keep_topN`: keep top-N more frequent ngrams.\n",
    "\n",
    "and returns:\n",
    "\n",
    "- `vocab`: a set of the n-grams that will be used as features.\n",
    "- `df`: a Counter (or dict) that contains ngrams as keys and their corresponding document frequency as values.\n",
    "- `ngram_counts`: counts of each ngram in vocab\n"
   ]
  },
  {
   "cell_type": "code",
   "execution_count": 640,
   "metadata": {
    "ExecuteTime": {
     "end_time": "2020-04-02T14:26:42.563876Z",
     "start_time": "2020-04-02T14:26:42.557967Z"
    }
   },
   "outputs": [],
   "source": [
    "def get_vocab(X_raw, ngram_range=(1,2), token_pattern=r'\\b[A-Za-z][A-Za-z]+\\b', min_df=0, keep_topN=0, stop_words=[]):\n",
    "    \n",
    "\n",
    "    #Calculate NGram in all files，No repetitive NGram removed\n",
    "    all_ngrams=[]\n",
    "    ngrams_list=[]\n",
    "    for s in X_raw:\n",
    "        ngrams_one=extract_ngrams(s, ngram_range=ngram_range,stop_words=stop_words)\n",
    "        all_ngrams.extend(ngrams_one)\n",
    "        ngrams_list.append(ngrams_one)\n",
    "\n",
    "    #get  ngram_counts\n",
    "    Counter_ngrams=Counter(all_ngrams) #Total frequency of each NGram\n",
    "    ngram_counts=Counter_ngrams.most_common(keep_topN)   \n",
    "    #gey  vocab\n",
    "    vocab=[]\n",
    "    for i in range (0,keep_topN):\n",
    "        vocab.append(ngram_counts[i][0])\n",
    "        \n",
    "    #  Disorganize vocab\n",
    "    vocab=list(set(vocab))\n",
    "        \n",
    "        \n",
    "\n",
    "    df={}\n",
    "    for i in vocab:\n",
    "        count=min_df        \n",
    "        for j in range(0,len(ngrams_list)):#  Loop through all files\n",
    "            \n",
    "            if i in ngrams_list[j]:     #If there is NGram in this file\n",
    "                count=count+1\n",
    "        df[i]=count\n",
    "        \n",
    "        \n",
    "    return vocab, df, ngram_counts"
   ]
  },
  {
   "cell_type": "markdown",
   "metadata": {},
   "source": [
    "Now you should use `get_vocab` to create your vocabulary and get document and raw frequencies of unigrams:"
   ]
  },
  {
   "cell_type": "code",
   "execution_count": 641,
   "metadata": {
    "ExecuteTime": {
     "end_time": "2020-04-02T14:26:43.577997Z",
     "start_time": "2020-04-02T14:26:43.478950Z"
    }
   },
   "outputs": [],
   "source": [
    "vocab_train, df_train, ngram_counts_train = get_vocab(train_raw, ngram_range=1, keep_topN=8000, stop_words=stop_words)"
   ]
  },
  {
   "cell_type": "code",
   "execution_count": 642,
   "metadata": {},
   "outputs": [
    {
     "data": {
      "text/plain": [
       "8000"
      ]
     },
     "execution_count": 642,
     "metadata": {},
     "output_type": "execute_result"
    }
   ],
   "source": [
    "len(vocab_train)"
   ]
  },
  {
   "cell_type": "code",
   "execution_count": 643,
   "metadata": {},
   "outputs": [
    {
     "data": {
      "text/plain": [
       "['houses',\n",
       " 'boycott',\n",
       " 'superiority',\n",
       " 'how',\n",
       " 'guerrillas',\n",
       " 'columbus',\n",
       " 'cave',\n",
       " 'motor',\n",
       " 'weapons',\n",
       " 'superb',\n",
       " 'klete',\n",
       " 'little',\n",
       " 'battleground',\n",
       " 'rainy',\n",
       " 'running',\n",
       " 'nicholls',\n",
       " 'islamic',\n",
       " 'iliadis',\n",
       " 'surrender',\n",
       " 'retired',\n",
       " 'masterminded',\n",
       " 'instance',\n",
       " 'appear',\n",
       " 'floods',\n",
       " 'deutsche',\n",
       " 'fastest',\n",
       " 'mutual',\n",
       " 'hagen',\n",
       " 'wait',\n",
       " 'association',\n",
       " 'shouldn',\n",
       " 'broaden',\n",
       " 'recognized',\n",
       " 'warplane',\n",
       " 'colombian',\n",
       " 'report',\n",
       " 'kabul',\n",
       " 'dazzling',\n",
       " 'agreed',\n",
       " 'describe',\n",
       " 'teenager',\n",
       " 'financial',\n",
       " 'excavated',\n",
       " 'pleasant',\n",
       " 'saves',\n",
       " 'voting',\n",
       " 'tiny',\n",
       " 'nottinghamshire',\n",
       " 'judicial',\n",
       " 'wasn',\n",
       " 'easy',\n",
       " 'palms',\n",
       " 'dare',\n",
       " 'moldovan',\n",
       " 'divided',\n",
       " 'stores',\n",
       " 'saying',\n",
       " 'outlasts',\n",
       " 'skyrocket',\n",
       " 'far',\n",
       " 'nl',\n",
       " 'death',\n",
       " 'revealed',\n",
       " 'chanting',\n",
       " 'abby',\n",
       " 'matters',\n",
       " 'facemask',\n",
       " 'face',\n",
       " 'saw',\n",
       " 'finances',\n",
       " 'entertained',\n",
       " 'oprah',\n",
       " 'era',\n",
       " 'motors',\n",
       " 'sa',\n",
       " 'czar',\n",
       " 'turning',\n",
       " 'awakes',\n",
       " 'guided',\n",
       " 'rape',\n",
       " 'guzman',\n",
       " 'colombia',\n",
       " 'reflected',\n",
       " 'nicol',\n",
       " 'prospect',\n",
       " 'saved',\n",
       " 'indicated',\n",
       " 'ticket',\n",
       " 'gruden',\n",
       " 'iowa',\n",
       " 'ties',\n",
       " 'fifteen',\n",
       " 'homosexual',\n",
       " 'announced',\n",
       " 'dancers',\n",
       " 'hander',\n",
       " 'ahern',\n",
       " 'weekly',\n",
       " 'mot',\n",
       " 'defence',\n",
       " 'czech',\n",
       " 'aspiring',\n",
       " 'quiet',\n",
       " 'utterly',\n",
       " 'secular',\n",
       " 'troublesome',\n",
       " 'thumping',\n",
       " 'ehime',\n",
       " 'sri',\n",
       " 'paid',\n",
       " 'duo',\n",
       " 'becomes',\n",
       " 'unveiled',\n",
       " 'shelters',\n",
       " 'bills',\n",
       " 'internal',\n",
       " 'phelps',\n",
       " 'desk',\n",
       " 'finishing',\n",
       " 'fifth',\n",
       " 'mining',\n",
       " 'educational',\n",
       " 'deputy',\n",
       " 'growing',\n",
       " 'garbin',\n",
       " 'worthless',\n",
       " 'ethnic',\n",
       " 'fi',\n",
       " 'asset',\n",
       " 'arms',\n",
       " 'sensation',\n",
       " 'indonesian',\n",
       " 'flanker',\n",
       " 'agenda',\n",
       " 'poisoned',\n",
       " 'farmers',\n",
       " 'distinguished',\n",
       " 'prepares',\n",
       " 'propelled',\n",
       " 'leisel',\n",
       " 'mandated',\n",
       " 'unacceptable',\n",
       " 'vowed',\n",
       " 'bangkok',\n",
       " 'scoffed',\n",
       " 'archer',\n",
       " 'used',\n",
       " 'career',\n",
       " 'band',\n",
       " 'inner',\n",
       " 'ivan',\n",
       " 'giambi',\n",
       " 'waited',\n",
       " 'meat',\n",
       " 'oust',\n",
       " 'toehold',\n",
       " 'causing',\n",
       " 'parted',\n",
       " 'cobi',\n",
       " 'boosted',\n",
       " 'hindi',\n",
       " 'exchange',\n",
       " 'brokerage',\n",
       " 'toyota',\n",
       " 'charter',\n",
       " 'advantage',\n",
       " 'andy',\n",
       " 'erupted',\n",
       " 'engineer',\n",
       " 'opens',\n",
       " 'barrel',\n",
       " 'withdraw',\n",
       " 'wasteland',\n",
       " 'boys',\n",
       " 'arrive',\n",
       " 'filed',\n",
       " 'outlawed',\n",
       " 'grenada',\n",
       " 'move',\n",
       " 'naeem',\n",
       " 'market',\n",
       " 'agent',\n",
       " 'iraqi',\n",
       " 'operators',\n",
       " 'sidelines',\n",
       " 'monster',\n",
       " 'considering',\n",
       " 'needed',\n",
       " 'work',\n",
       " 'crowned',\n",
       " 'captain',\n",
       " 'whipped',\n",
       " 'sprinter',\n",
       " 'headed',\n",
       " 'eligible',\n",
       " 'schedule',\n",
       " 'indiana',\n",
       " 'asom',\n",
       " 'acting',\n",
       " 'armored',\n",
       " 'sysco',\n",
       " 'sheriff',\n",
       " 'hasher',\n",
       " 'endangering',\n",
       " 'iranian',\n",
       " 'yourap',\n",
       " 'mashiska',\n",
       " 'property',\n",
       " 'drop',\n",
       " 'flyweight',\n",
       " 'semi',\n",
       " 'packers',\n",
       " 'forum',\n",
       " 'critics',\n",
       " 'river',\n",
       " 'rearing',\n",
       " 'rwandan',\n",
       " 'rajyavardhan',\n",
       " 'uk',\n",
       " 'cliff',\n",
       " 'jersey',\n",
       " 'hikes',\n",
       " 'businessman',\n",
       " 'cells',\n",
       " 'momentum',\n",
       " 'gained',\n",
       " 'absolutely',\n",
       " 'dirt',\n",
       " 'santa',\n",
       " 'warning',\n",
       " 'supporters',\n",
       " 'guy',\n",
       " 'foxborough',\n",
       " 'persistent',\n",
       " 'install',\n",
       " 'delay',\n",
       " 'representatives',\n",
       " 'arash',\n",
       " 'alvarez',\n",
       " 'boxing',\n",
       " 'investment',\n",
       " 'zealand',\n",
       " 'rowling',\n",
       " 'creed',\n",
       " 'grim',\n",
       " 'coaches',\n",
       " 'assistant',\n",
       " 'bellsouth',\n",
       " 'zalmay',\n",
       " 'design',\n",
       " 'lra',\n",
       " 'standing',\n",
       " 'slain',\n",
       " 'reaffirmed',\n",
       " 'trembled',\n",
       " 'cool',\n",
       " 'cannon',\n",
       " 'misty',\n",
       " 'klitschko',\n",
       " 'remorseless',\n",
       " 'appealed',\n",
       " 'remove',\n",
       " 'las',\n",
       " 'edwards',\n",
       " 'signed',\n",
       " 'ronaldinho',\n",
       " 'mls',\n",
       " 'howling',\n",
       " 'answer',\n",
       " 'believes',\n",
       " 'overseas',\n",
       " 'canoe',\n",
       " 'sparkle',\n",
       " 'showings',\n",
       " 'franco',\n",
       " 'carangelo',\n",
       " 'blamed',\n",
       " 'decisive',\n",
       " 'leaves',\n",
       " 'dissolve',\n",
       " 'playboy',\n",
       " 'fencing',\n",
       " 'liverpool',\n",
       " 'deputies',\n",
       " 'mixed',\n",
       " 'breezed',\n",
       " 'edge',\n",
       " 'words',\n",
       " 'ever',\n",
       " 'needing',\n",
       " 'gigs',\n",
       " 'jin',\n",
       " 'according',\n",
       " 'operations',\n",
       " 'recent',\n",
       " 'quit',\n",
       " 'phenomenon',\n",
       " 'prosaic',\n",
       " 'rahmal',\n",
       " 'trading',\n",
       " 'blocks',\n",
       " 'trafficking',\n",
       " 'pleas',\n",
       " 'maoist',\n",
       " 'deadline',\n",
       " 'cheap',\n",
       " 'conversation',\n",
       " 'handicap',\n",
       " 'turkish',\n",
       " 'percentage',\n",
       " 'adjourned',\n",
       " 'rebuilding',\n",
       " 'hovered',\n",
       " 'odds',\n",
       " 'couch',\n",
       " 'sweating',\n",
       " 'awarded',\n",
       " 'titled',\n",
       " 'conducting',\n",
       " 'emergency',\n",
       " 'instead',\n",
       " 'tuesdayissued',\n",
       " 'release',\n",
       " 'anybody',\n",
       " 'interrupting',\n",
       " 'executive',\n",
       " 'mentioned',\n",
       " 'papal',\n",
       " 'outfield',\n",
       " 'betting',\n",
       " 'prompting',\n",
       " 'virtue',\n",
       " 'uzbekistan',\n",
       " 'flesh',\n",
       " 'spirit',\n",
       " 'romance',\n",
       " 'mccoy',\n",
       " 'beckham',\n",
       " 'carvings',\n",
       " 'unidentified',\n",
       " 'recordings',\n",
       " 'williamsport',\n",
       " 'victoria',\n",
       " 'angola',\n",
       " 'boosting',\n",
       " 'girl',\n",
       " 'wade',\n",
       " 'padres',\n",
       " 'ship',\n",
       " 'barring',\n",
       " 'prisoners',\n",
       " 'schmid',\n",
       " 'notched',\n",
       " 'richard',\n",
       " 'heats',\n",
       " 'wood',\n",
       " 'monumental',\n",
       " 'robb',\n",
       " 'pierce',\n",
       " 'complain',\n",
       " 'villagers',\n",
       " 'dismal',\n",
       " 'prospects',\n",
       " 'heal',\n",
       " 'setback',\n",
       " 'ncaa',\n",
       " 'swing',\n",
       " 'synch',\n",
       " 'initial',\n",
       " 'sack',\n",
       " 'expansion',\n",
       " 'rebounds',\n",
       " 'combines',\n",
       " 'perhaps',\n",
       " 'rejected',\n",
       " 'competitors',\n",
       " 'hover',\n",
       " 'speier',\n",
       " 'choice',\n",
       " 'fuel',\n",
       " 'hitter',\n",
       " 'diverse',\n",
       " 'opinion',\n",
       " 'fired',\n",
       " 'punter',\n",
       " 'phone',\n",
       " 'sister',\n",
       " 'pedro',\n",
       " 'hurricanes',\n",
       " 'down',\n",
       " 'woodward',\n",
       " 'principality',\n",
       " 'reversed',\n",
       " 'buildings',\n",
       " 'audience',\n",
       " 'publicly',\n",
       " 'haven',\n",
       " 'skirt',\n",
       " 'jarno',\n",
       " 'sir',\n",
       " 'williamson',\n",
       " 'kasay',\n",
       " 'aristide',\n",
       " 'todd',\n",
       " 'gods',\n",
       " 'leg',\n",
       " 'zoo',\n",
       " 'revive',\n",
       " 'bgp',\n",
       " 'azevedo',\n",
       " 'settler',\n",
       " 'total',\n",
       " 'unfurl',\n",
       " 'harmonious',\n",
       " 'gasped',\n",
       " 'minutes',\n",
       " 'rifts',\n",
       " 'publicity',\n",
       " 'sour',\n",
       " 'pursue',\n",
       " 'premier',\n",
       " 'opener',\n",
       " 'snaked',\n",
       " 'nd',\n",
       " 'listed',\n",
       " 'seems',\n",
       " 'yvette',\n",
       " 'hospitalized',\n",
       " 'guarding',\n",
       " 'ruined',\n",
       " 'column',\n",
       " 'silver',\n",
       " 'everton',\n",
       " 'rampage',\n",
       " 'jonny',\n",
       " 'fires',\n",
       " 'infuriating',\n",
       " 'zagunis',\n",
       " 'tucker',\n",
       " 'stories',\n",
       " 'sore',\n",
       " 'mistake',\n",
       " 'lakes',\n",
       " 'modern',\n",
       " 'preacher',\n",
       " 'criminal',\n",
       " 'blagojevich',\n",
       " 'ernie',\n",
       " 'bothered',\n",
       " 'die',\n",
       " 'upstaged',\n",
       " 'fervent',\n",
       " 'many',\n",
       " 'marketing',\n",
       " 'arbitrators',\n",
       " 'cards',\n",
       " 'servicemen',\n",
       " 'contest',\n",
       " 'accent',\n",
       " 'dye',\n",
       " 'georgia',\n",
       " 'guitars',\n",
       " 'griffey',\n",
       " 'waving',\n",
       " 'steep',\n",
       " 'cities',\n",
       " 'pranksters',\n",
       " 'wall',\n",
       " 'remedy',\n",
       " 'vaclav',\n",
       " 'viagra',\n",
       " 'confiscated',\n",
       " 'high',\n",
       " 'impishly',\n",
       " 'medalists',\n",
       " 'workout',\n",
       " 'wild',\n",
       " 'warns',\n",
       " 'currency',\n",
       " 'met',\n",
       " 'scull',\n",
       " 'sellers',\n",
       " 'interdicting',\n",
       " 'francisco',\n",
       " 'popov',\n",
       " 'modified',\n",
       " 'arrest',\n",
       " 'germany',\n",
       " 'latham',\n",
       " 'kim',\n",
       " 'deadlock',\n",
       " 'jet',\n",
       " 'japanese',\n",
       " 'impossible',\n",
       " 'dave',\n",
       " 'modest',\n",
       " 'evenly',\n",
       " 'sternly',\n",
       " 'box',\n",
       " 'site',\n",
       " 'roofs',\n",
       " 'governor',\n",
       " 'accepting',\n",
       " 'standstill',\n",
       " 'tonight',\n",
       " 'citrus',\n",
       " 'dark',\n",
       " 'broncos',\n",
       " 'massive',\n",
       " 'factory',\n",
       " 'left',\n",
       " 'organise',\n",
       " 'carol',\n",
       " 'quiz',\n",
       " 'ariel',\n",
       " 'putter',\n",
       " 'hungary',\n",
       " 'life',\n",
       " 'torn',\n",
       " 'wife',\n",
       " 'short',\n",
       " 'always',\n",
       " 'wily',\n",
       " 'suburb',\n",
       " 'zone',\n",
       " 'attack',\n",
       " 'izumi',\n",
       " 'course',\n",
       " 'stunned',\n",
       " 'brisk',\n",
       " 'diagnosis',\n",
       " 'sporting',\n",
       " 'victor',\n",
       " 'dies',\n",
       " 'walker',\n",
       " 'views',\n",
       " 'piece',\n",
       " 'highlighted',\n",
       " 'saturday',\n",
       " 'competing',\n",
       " 'glass',\n",
       " 'vietnam',\n",
       " 'weightlifting',\n",
       " 'factories',\n",
       " 'information',\n",
       " 'good',\n",
       " 'golds',\n",
       " 'convert',\n",
       " 'democracy',\n",
       " 'arc',\n",
       " 'disappointed',\n",
       " 'commit',\n",
       " 'washing',\n",
       " 'immediately',\n",
       " 'indefinitely',\n",
       " 'recovering',\n",
       " 'layoff',\n",
       " 'welsh',\n",
       " 'certainly',\n",
       " 'trends',\n",
       " 'trucks',\n",
       " 'freezing',\n",
       " 'shambles',\n",
       " 'lou',\n",
       " 'conjunctivitis',\n",
       " 'rescue',\n",
       " 'schroder',\n",
       " 'bellhorn',\n",
       " 'happied',\n",
       " 'outscored',\n",
       " 'hobbling',\n",
       " 'flash',\n",
       " 'surveillance',\n",
       " 'wr',\n",
       " 'equaled',\n",
       " 'welcomed',\n",
       " 'neighborhoods',\n",
       " 'raiders',\n",
       " 'executions',\n",
       " 'antiterror',\n",
       " 'trickled',\n",
       " 'chanted',\n",
       " 'bosses',\n",
       " 'groups',\n",
       " 'jacques',\n",
       " 'buddhist',\n",
       " 'renovations',\n",
       " 'talks',\n",
       " 'joey',\n",
       " 'ca',\n",
       " 'budapest',\n",
       " 'freestyle',\n",
       " 'spokesman',\n",
       " 'mean',\n",
       " 'backpacker',\n",
       " 'gear',\n",
       " 'firestone',\n",
       " 'unchecked',\n",
       " 'image',\n",
       " 'acasuso',\n",
       " 'assassination',\n",
       " 'impress',\n",
       " 'youth',\n",
       " 'imagined',\n",
       " 'tremendous',\n",
       " 'alpine',\n",
       " 'ricky',\n",
       " 'pinch',\n",
       " 'gathering',\n",
       " 'popularly',\n",
       " 'commissions',\n",
       " 'more',\n",
       " 'hunt',\n",
       " 'instincts',\n",
       " 'weaken',\n",
       " 'after',\n",
       " 'hampering',\n",
       " 'upbeat',\n",
       " 'nepalese',\n",
       " 'providence',\n",
       " 'mortgage',\n",
       " 'nathan',\n",
       " 'baghad',\n",
       " 'britain',\n",
       " 'doughnuts',\n",
       " 'sudanese',\n",
       " 'reminder',\n",
       " 'chiefs',\n",
       " 'containing',\n",
       " 'buffeted',\n",
       " 'success',\n",
       " 'keith',\n",
       " 'aj',\n",
       " 'finest',\n",
       " 'coyotes',\n",
       " 'capitol',\n",
       " 'percent',\n",
       " 'doris',\n",
       " 'gyms',\n",
       " 'slovakia',\n",
       " 'expos',\n",
       " 'shattered',\n",
       " 'arch',\n",
       " 'turf',\n",
       " 'bicycle',\n",
       " 'bulger',\n",
       " 'leagues',\n",
       " 'promotions',\n",
       " 'brazil',\n",
       " 'shock',\n",
       " 'dates',\n",
       " 'shamed',\n",
       " 'milan',\n",
       " 'tools',\n",
       " 'finish',\n",
       " 'travis',\n",
       " 'prone',\n",
       " 'mired',\n",
       " 'view',\n",
       " 'chute',\n",
       " 'ohalete',\n",
       " 'prosecution',\n",
       " 'sets',\n",
       " 'courageously',\n",
       " 'virgin',\n",
       " 'tastes',\n",
       " 'player',\n",
       " 'warlord',\n",
       " 'photos',\n",
       " 'hacked',\n",
       " 'takashi',\n",
       " 'hotter',\n",
       " 'soon',\n",
       " 'cheats',\n",
       " 'withholding',\n",
       " 'cleric',\n",
       " 'bests',\n",
       " 'mills',\n",
       " 'grown',\n",
       " 'bin',\n",
       " 'unifying',\n",
       " 'quarterly',\n",
       " 'enormous',\n",
       " 'mvp',\n",
       " 'ginobili',\n",
       " 'hurdle',\n",
       " 'fed',\n",
       " 'undefeated',\n",
       " 'compromise',\n",
       " 'obsession',\n",
       " 'fischer',\n",
       " 'invitational',\n",
       " 'costs',\n",
       " 'ear',\n",
       " 'tribal',\n",
       " 'calendar',\n",
       " 'job',\n",
       " 'hackett',\n",
       " 'feared',\n",
       " 'event',\n",
       " 'reason',\n",
       " 'beard',\n",
       " 'pointing',\n",
       " 'reference',\n",
       " 'consigned',\n",
       " 'victim',\n",
       " 'consumers',\n",
       " 'spinning',\n",
       " 'raw',\n",
       " 'rooms',\n",
       " 'tri',\n",
       " 'hungarian',\n",
       " 'pakistani',\n",
       " 'ore',\n",
       " 'field',\n",
       " 'blue',\n",
       " 'highs',\n",
       " 'areas',\n",
       " 'macgowan',\n",
       " 'picture',\n",
       " 'antiwar',\n",
       " 'sidelined',\n",
       " 'snps',\n",
       " 'option',\n",
       " 'reportedly',\n",
       " 'anointed',\n",
       " 'dislocated',\n",
       " 'ong',\n",
       " 'leaps',\n",
       " 'vento',\n",
       " 'olusegun',\n",
       " 'refusal',\n",
       " 'tortuous',\n",
       " 'filipinos',\n",
       " 'assembly',\n",
       " 'integrity',\n",
       " 'bus',\n",
       " 'lynn',\n",
       " 'asks',\n",
       " 'insolvent',\n",
       " 'proposals',\n",
       " 'attended',\n",
       " 'doing',\n",
       " 'inflected',\n",
       " 'hunting',\n",
       " 'adjusters',\n",
       " 'forces',\n",
       " 'adviser',\n",
       " 'helicopters',\n",
       " 'cranked',\n",
       " 'europes',\n",
       " 'materials',\n",
       " 'innings',\n",
       " 'shattering',\n",
       " 'pittsburgh',\n",
       " 'diamondbacks',\n",
       " 'com',\n",
       " 'redwood',\n",
       " 'gov',\n",
       " 'fixed',\n",
       " 'moreland',\n",
       " 'arafat',\n",
       " 'flew',\n",
       " 'competed',\n",
       " 'boating',\n",
       " 'cure',\n",
       " 'fraud',\n",
       " 'drier',\n",
       " 'suggesting',\n",
       " 'regalia',\n",
       " 'putting',\n",
       " 'ap',\n",
       " 'jennings',\n",
       " 'brandenburg',\n",
       " 'reruns',\n",
       " 'luck',\n",
       " 'attention',\n",
       " 'inside',\n",
       " 'immersed',\n",
       " 'defending',\n",
       " 'fencer',\n",
       " 'fully',\n",
       " 'hey',\n",
       " 'baltimore',\n",
       " 'dealing',\n",
       " 'cancel',\n",
       " 'observers',\n",
       " 'hangover',\n",
       " 'google',\n",
       " 'bad',\n",
       " 'starts',\n",
       " 'string',\n",
       " 'dipped',\n",
       " 'regina',\n",
       " 'jazeera',\n",
       " 'world',\n",
       " 'glendale',\n",
       " 'square',\n",
       " 'grabbed',\n",
       " 'airlines',\n",
       " 'senator',\n",
       " 'ethiopia',\n",
       " 'neared',\n",
       " 'sexual',\n",
       " 'aware',\n",
       " 'pronger',\n",
       " 'contributors',\n",
       " 'veteran',\n",
       " 'seahawks',\n",
       " 'jamaican',\n",
       " 'worthy',\n",
       " 'balance',\n",
       " 'national',\n",
       " 'diplomacy',\n",
       " 'table',\n",
       " 'daily',\n",
       " 'murdoch',\n",
       " 'mind',\n",
       " 'star',\n",
       " 'thessaloniki',\n",
       " 'families',\n",
       " 'inaugural',\n",
       " 'lone',\n",
       " 'daye',\n",
       " 'assembled',\n",
       " 'accident',\n",
       " 'insists',\n",
       " 'packed',\n",
       " 'orioles',\n",
       " 'organisers',\n",
       " 'accidentally',\n",
       " 'increasingly',\n",
       " 'fanatics',\n",
       " 'linked',\n",
       " 'orthodox',\n",
       " 'agents',\n",
       " 'hands',\n",
       " 'clubbed',\n",
       " 'lets',\n",
       " 'rae',\n",
       " 'condos',\n",
       " 'scale',\n",
       " 'esperanza',\n",
       " 'reduce',\n",
       " 'paypass',\n",
       " 'hauls',\n",
       " 'devices',\n",
       " 'bridging',\n",
       " 'selfish',\n",
       " 'opened',\n",
       " 'operated',\n",
       " 'kayla',\n",
       " 'kmrt',\n",
       " 'cricket',\n",
       " 'toughest',\n",
       " 'll',\n",
       " 'protection',\n",
       " 'salvador',\n",
       " 'textile',\n",
       " 'makes',\n",
       " 'hairston',\n",
       " 'andruw',\n",
       " 'drove',\n",
       " 'industry',\n",
       " 'intentions',\n",
       " 'hitting',\n",
       " 'charley',\n",
       " 'tagged',\n",
       " 'posted',\n",
       " 'joke',\n",
       " 'koyie',\n",
       " 'billiton',\n",
       " 'dude',\n",
       " 'husband',\n",
       " 'hanged',\n",
       " 'killing',\n",
       " 'insurers',\n",
       " 'slowed',\n",
       " 'fix',\n",
       " 'wireless',\n",
       " 'wind',\n",
       " 'performing',\n",
       " 'cent',\n",
       " 'berkeley',\n",
       " 'beats',\n",
       " 'ankle',\n",
       " 'gradual',\n",
       " 'humes',\n",
       " 'contender',\n",
       " 'showing',\n",
       " 'dampen',\n",
       " 'paws',\n",
       " 'past',\n",
       " 'resolving',\n",
       " 'overrule',\n",
       " 'trophy',\n",
       " 'yasser',\n",
       " 'deadly',\n",
       " 'returning',\n",
       " 'split',\n",
       " 'kmart',\n",
       " 'fleetboston',\n",
       " 'multibillion',\n",
       " 'johan',\n",
       " 'kingston',\n",
       " 'paso',\n",
       " 'perfect',\n",
       " 'javier',\n",
       " 'font',\n",
       " 'crushed',\n",
       " 'federation',\n",
       " 'shortage',\n",
       " 'fish',\n",
       " 'environment',\n",
       " 'predictably',\n",
       " 'meters',\n",
       " 'disappointing',\n",
       " 'warmth',\n",
       " 'disruption',\n",
       " 'strained',\n",
       " 'rib',\n",
       " 'suspend',\n",
       " 'start',\n",
       " 'increase',\n",
       " 'aaa',\n",
       " 'choose',\n",
       " 'scenes',\n",
       " 'throwing',\n",
       " 'unannounced',\n",
       " 'spectacular',\n",
       " 'tendons',\n",
       " 'eventing',\n",
       " 'food',\n",
       " 'patients',\n",
       " 'recurring',\n",
       " 'blows',\n",
       " 'means',\n",
       " 'cremated',\n",
       " 'jim',\n",
       " 'uses',\n",
       " 'lavery',\n",
       " 'interpreted',\n",
       " 'wen',\n",
       " 'moved',\n",
       " 'yler',\n",
       " 'rose',\n",
       " 'embraced',\n",
       " 'sentences',\n",
       " 'kenny',\n",
       " 'competent',\n",
       " 'base',\n",
       " 'expulsion',\n",
       " 'dialogue',\n",
       " 'mariners',\n",
       " 'pirates',\n",
       " 'synopsys',\n",
       " 'management',\n",
       " 'bloomberg',\n",
       " 'match',\n",
       " 'beautified',\n",
       " 'sights',\n",
       " 'shook',\n",
       " 'militants',\n",
       " 'stats',\n",
       " 'interest',\n",
       " 'moktada',\n",
       " 'permission',\n",
       " 'synchronized',\n",
       " 'philo',\n",
       " 'researcher',\n",
       " 'position',\n",
       " 'sought',\n",
       " 'knocking',\n",
       " 'blues',\n",
       " 'surprise',\n",
       " 'penguins',\n",
       " 'wide',\n",
       " 'medalist',\n",
       " 'published',\n",
       " 'etisalat',\n",
       " 'hurricane',\n",
       " 'lines',\n",
       " 'implemented',\n",
       " 'recovery',\n",
       " 'mandate',\n",
       " 'flawless',\n",
       " 'berlin',\n",
       " 'hide',\n",
       " 'kate',\n",
       " 'furiously',\n",
       " 'special',\n",
       " 'yamamoto',\n",
       " 'evaded',\n",
       " 'depends',\n",
       " 'industrialized',\n",
       " 'celebrations',\n",
       " 'cotchery',\n",
       " 'gag',\n",
       " 'footage',\n",
       " 'travelled',\n",
       " ...]"
      ]
     },
     "execution_count": 643,
     "metadata": {},
     "output_type": "execute_result"
    }
   ],
   "source": [
    "vocab_train"
   ]
  },
  {
   "cell_type": "markdown",
   "metadata": {},
   "source": [
    "Then, you need to create vocabulary id -> word and id -> word dictionaries for reference:"
   ]
  },
  {
   "cell_type": "code",
   "execution_count": 645,
   "metadata": {
    "ExecuteTime": {
     "end_time": "2020-04-02T14:26:44.069661Z",
     "start_time": "2020-04-02T14:26:44.065058Z"
    }
   },
   "outputs": [],
   "source": [
    "vocabulary_id_word={}#  id :word\n",
    "vocabulary_word_id={}\n",
    "t=0\n",
    "for w in vocab_train:\n",
    "    vocabulary_id_word[t]=w\n",
    "    vocabulary_word_id[w]=t\n",
    "    t=t+1"
   ]
  },
  {
   "cell_type": "markdown",
   "metadata": {},
   "source": [
    "### Convert the list of unigrams  into a list of vocabulary indices"
   ]
  },
  {
   "cell_type": "markdown",
   "metadata": {},
   "source": [
    "Storing actual one-hot vectors into memory for all words in the entire data set is prohibitive. Instead, we will store word indices in the vocabulary and look-up the weight matrix. This is equivalent of doing a dot product between an one-hot vector and the weight matrix. \n",
    "\n",
    "First, represent documents in train, dev and test sets as lists of words in the vocabulary:"
   ]
  },
  {
   "cell_type": "code",
   "execution_count": 646,
   "metadata": {
    "ExecuteTime": {
     "end_time": "2020-04-02T14:26:45.047887Z",
     "start_time": "2020-04-02T14:26:44.920631Z"
    }
   },
   "outputs": [],
   "source": [
    "def get_X_uni(X_raw,vocab_train,ngram_range=1):\n",
    "    \n",
    "    X_uni_tr=[]\n",
    "    for s in X_raw:\n",
    "        ngrams_one_=[]\n",
    "        ngrams_one=extract_ngrams(s, ngram_range=ngram_range,stop_words=stop_words)\n",
    "        #remove some word in ngrams_one\n",
    "        for i in ngrams_one:\n",
    "            if i in vocab_train:\n",
    "                ngrams_one_.append(i)\n",
    "               \n",
    "        X_uni_tr.append(ngrams_one_)\n",
    "    return X_uni_tr"
   ]
  },
  {
   "cell_type": "code",
   "execution_count": 647,
   "metadata": {},
   "outputs": [],
   "source": [
    "X_uni_tr=get_X_uni(train_raw,vocab_train,ngram_range=1)"
   ]
  },
  {
   "cell_type": "code",
   "execution_count": 648,
   "metadata": {},
   "outputs": [],
   "source": [
    "X_uni_dev=get_X_uni(dev_raw,vocab_train,ngram_range=1)"
   ]
  },
  {
   "cell_type": "code",
   "execution_count": 649,
   "metadata": {},
   "outputs": [],
   "source": [
    "X_uni_test=get_X_uni(test_raw,vocab_train,ngram_range=1)"
   ]
  },
  {
   "cell_type": "markdown",
   "metadata": {},
   "source": [
    "Then convert them into lists of indices in the vocabulary:"
   ]
  },
  {
   "cell_type": "code",
   "execution_count": 650,
   "metadata": {
    "ExecuteTime": {
     "end_time": "2020-04-02T14:26:45.752658Z",
     "start_time": "2020-04-02T14:26:45.730409Z"
    }
   },
   "outputs": [],
   "source": [
    "def get_X_tr(X_uni_tr):\n",
    "    X_tr=[]\n",
    "    for i in range(0,len(X_uni_tr)):\n",
    "        x_one=[]\n",
    "        for j in X_uni_tr[i]:\n",
    "              \n",
    "            x_one.append(vocabulary_word_id[j]) # not in vocabulary_word_id，but in X_uni_tr\n",
    "        X_tr.append(x_one)\n",
    "    return X_tr\n",
    "        \n",
    "    \n",
    "    "
   ]
  },
  {
   "cell_type": "code",
   "execution_count": 651,
   "metadata": {},
   "outputs": [],
   "source": [
    "X_tr=get_X_tr(X_uni_tr)"
   ]
  },
  {
   "cell_type": "code",
   "execution_count": 652,
   "metadata": {},
   "outputs": [],
   "source": [
    "X_dev=get_X_tr(X_uni_dev)"
   ]
  },
  {
   "cell_type": "code",
   "execution_count": 653,
   "metadata": {},
   "outputs": [],
   "source": [
    "X_test=get_X_tr(X_uni_test)"
   ]
  },
  {
   "cell_type": "code",
   "execution_count": 654,
   "metadata": {
    "ExecuteTime": {
     "end_time": "2020-04-02T14:26:46.203894Z",
     "start_time": "2020-04-02T14:26:46.199850Z"
    },
    "scrolled": false
   },
   "outputs": [
    {
     "data": {
      "text/plain": [
       "[6581,\n",
       " 6388,\n",
       " 3627,\n",
       " 4563,\n",
       " 1075,\n",
       " 3098,\n",
       " 7707,\n",
       " 1663,\n",
       " 1380,\n",
       " 2451,\n",
       " 5412,\n",
       " 7668,\n",
       " 261,\n",
       " 510,\n",
       " 1176,\n",
       " 2743,\n",
       " 3954,\n",
       " 1653,\n",
       " 2627,\n",
       " 5890,\n",
       " 4705,\n",
       " 4271,\n",
       " 984,\n",
       " 5995,\n",
       " 3808,\n",
       " 2309,\n",
       " 1824]"
      ]
     },
     "execution_count": 654,
     "metadata": {},
     "output_type": "execute_result"
    }
   ],
   "source": [
    "X_tr[0]"
   ]
  },
  {
   "cell_type": "markdown",
   "metadata": {},
   "source": [
    "Put the labels `Y` for train, dev and test sets into arrays: "
   ]
  },
  {
   "cell_type": "code",
   "execution_count": 655,
   "metadata": {
    "ExecuteTime": {
     "end_time": "2020-04-02T15:03:13.183996Z",
     "start_time": "2020-04-02T15:03:13.077575Z"
    }
   },
   "outputs": [],
   "source": [
    "def get_Y(data):\n",
    "    Ylist=[]\n",
    "    for i in range(0,len(data)):\n",
    "        Ylist.append(data[i][0])\n",
    "       \n",
    "    return Ylist#  a list of s"
   ]
  },
  {
   "cell_type": "code",
   "execution_count": 656,
   "metadata": {},
   "outputs": [],
   "source": [
    "Y_train=get_Y(train_list)"
   ]
  },
  {
   "cell_type": "code",
   "execution_count": 657,
   "metadata": {},
   "outputs": [],
   "source": [
    "Y_dev=get_Y(development_list)"
   ]
  },
  {
   "cell_type": "code",
   "execution_count": 658,
   "metadata": {},
   "outputs": [],
   "source": [
    "Y_test=get_Y(test_sets_list)"
   ]
  },
  {
   "cell_type": "markdown",
   "metadata": {},
   "source": [
    "# Network Architecture\n",
    "\n",
    "Your network should pass each word index into its corresponding embedding by looking-up on the embedding matrix and then compute the first hidden layer $\\mathbf{h}_1$:\n",
    "\n",
    "$$\\mathbf{h}_1 = \\frac{1}{|x|}\\sum_i W^e_i, i \\in x$$\n",
    "\n",
    "where $|x|$ is the number of words in the document and $W^e$ is an embedding matrix $|V|\\times d$, $|V|$ is the size of the vocabulary and $d$ the embedding size.\n",
    "\n",
    "Then $\\mathbf{h}_1$ should be passed through a ReLU activation function:\n",
    "\n",
    "$$\\mathbf{a}_1 = relu(\\mathbf{h}_1)$$\n",
    "\n",
    "Finally the hidden layer is passed to the output layer:\n",
    "\n",
    "\n",
    "$$\\mathbf{y} = \\text{softmax}(\\mathbf{a}_1W^T) $$ \n",
    "where $W$ is a matrix $d \\times |{\\cal Y}|$, $|{\\cal Y}|$ is the number of classes.\n",
    "\n",
    "During training, $\\mathbf{a}_1$ should be multiplied with a dropout mask vector (elementwise) for regularisation before it is passed to the output layer.\n",
    "\n",
    "You can extend to a deeper architecture by passing a hidden layer to another one:\n",
    "\n",
    "$$\\mathbf{h_i} = \\mathbf{a}_{i-1}W_i^T $$\n",
    "\n",
    "$$\\mathbf{a_i} = relu(\\mathbf{h_i}) $$\n",
    "\n",
    "\n",
    "\n",
    "# Network Training\n",
    "\n",
    "First we need to define the parameters of our network by initiliasing the weight matrices. For that purpose, you should implement the `network_weights` function that takes as input:\n",
    "\n",
    "- `vocab_size`: the size of the vocabulary\n",
    "- `embedding_dim`: the size of the word embeddings\n",
    "- `hidden_dim`: a list of the sizes of any subsequent hidden layers (for the Bonus). Empty if there are no hidden layers between the average embedding and the output layer \n",
    "- `num_clusses`: the number of the classes for the output layer\n",
    "\n",
    "and returns:\n",
    "\n",
    "- `W`: a dictionary mapping from layer index (e.g. 0 for the embedding matrix) to the corresponding weight matrix initialised with small random numbers (hint: use numpy.random.uniform with from -0.1 to 0.1)\n",
    "\n",
    "See the examples below for expected outputs. Make sure that the dimensionality of each weight matrix is compatible with the previous and next weight matrix, otherwise you won't be able to perform forward and backward passes. Consider also using np.float32 precision to save memory."
   ]
  },
  {
   "cell_type": "code",
   "execution_count": 351,
   "metadata": {
    "ExecuteTime": {
     "end_time": "2020-04-02T15:09:10.086665Z",
     "start_time": "2020-04-02T15:09:10.083429Z"
    }
   },
   "outputs": [],
   "source": [
    "def network_weights(vocab_size=1000, embedding_dim=300, \n",
    "                    hidden_dim=[], num_classes=3, init_val = 0.5):\n",
    "    W=[]\n",
    "    if len(hidden_dim)==0:        \n",
    "        w_emb = np.random.uniform(-0.5,0.5,size=[vocab_size,embedding_dim])\n",
    "        W.append(w_emb)\n",
    "        w_out=np.random.uniform(-0.5,0.5,size=[embedding_dim,num_classes])\n",
    "        W.append(w_out)\n",
    "    else:\n",
    "        w_emb = np.random.uniform(-0.5,0.5,size=[vocab_size,embedding_dim])\n",
    "        W.append(w_emb)\n",
    "        w_h1=np.random.uniform(-0.5,0.5,size=[embedding_dim,hidden_dim[0]])\n",
    "        W.append(w_h1)                                 \n",
    "        for  i in range(0,len(hidden_dim)):\n",
    "           \n",
    "            if i==(len(hidden_dim)-1):\n",
    "               \n",
    "                w_hidden=np.random.uniform(-0.5,0.5,size=[hidden_dim[i],num_classes])\n",
    "                W.append(w_hidden)\n",
    "            else:                             \n",
    "                w_hidden=np.random.uniform(-0.5,0.5,size=[hidden_dim[i],hidden_dim[i+1]])\n",
    "                W.append(w_hidden)\n",
    "                                         \n",
    "    return W\n",
    "    "
   ]
  },
  {
   "cell_type": "code",
   "execution_count": 352,
   "metadata": {
    "ExecuteTime": {
     "end_time": "2020-04-02T14:26:48.143236Z",
     "start_time": "2020-04-02T14:26:48.139381Z"
    }
   },
   "outputs": [
    {
     "name": "stdout",
     "output_type": "stream",
     "text": [
      "W_emb: (5, 10)\n",
      "W_out: (10, 2)\n"
     ]
    }
   ],
   "source": [
    "W = network_weights(vocab_size=5,embedding_dim=10,hidden_dim=[], num_classes=2)\n",
    "\n",
    "print('W_emb:', W[0].shape)\n",
    "print('W_out:', W[1].shape)"
   ]
  },
  {
   "cell_type": "code",
   "execution_count": 353,
   "metadata": {
    "ExecuteTime": {
     "end_time": "2020-04-02T14:26:48.636732Z",
     "start_time": "2020-04-02T14:26:48.634122Z"
    }
   },
   "outputs": [],
   "source": [
    "W = network_weights(vocab_size=3,embedding_dim=4,hidden_dim=[2], num_classes=2)"
   ]
  },
  {
   "cell_type": "code",
   "execution_count": 354,
   "metadata": {
    "ExecuteTime": {
     "end_time": "2020-04-02T14:26:49.086112Z",
     "start_time": "2020-04-02T14:26:49.082225Z"
    },
    "scrolled": true
   },
   "outputs": [
    {
     "name": "stdout",
     "output_type": "stream",
     "text": [
      "W_emb: (3, 4)\n",
      "W_h1: (4, 2)\n",
      "W_out: (2, 2)\n"
     ]
    }
   ],
   "source": [
    "print('W_emb:', W[0].shape)\n",
    "print('W_h1:', W[1].shape)\n",
    "print('W_out:', W[2].shape)"
   ]
  },
  {
   "cell_type": "code",
   "execution_count": 355,
   "metadata": {
    "ExecuteTime": {
     "end_time": "2020-04-02T14:26:49.535954Z",
     "start_time": "2020-04-02T14:26:49.532018Z"
    }
   },
   "outputs": [
    {
     "data": {
      "text/plain": [
       "array([[-0.40428748,  0.38532683,  0.12724897,  0.22341636],\n",
       "       [-0.48387079,  0.09443188,  0.05678519, -0.34104036],\n",
       "       [-0.34692948,  0.19552953, -0.18123357,  0.1919703 ]])"
      ]
     },
     "execution_count": 355,
     "metadata": {},
     "output_type": "execute_result"
    }
   ],
   "source": [
    "W[0]"
   ]
  },
  {
   "cell_type": "markdown",
   "metadata": {
    "ExecuteTime": {
     "end_time": "2020-04-01T10:31:57.970152Z",
     "start_time": "2020-04-01T10:31:57.966123Z"
    }
   },
   "source": [
    "Then you need to develop a `softmax` function (same as in Assignment 1) to be used in the output layer. It takes as input:\n",
    "\n",
    "- `z`: array of real numbers \n",
    "\n",
    "and returns:\n",
    "\n",
    "- `sig`: the softmax of `z`"
   ]
  },
  {
   "cell_type": "code",
   "execution_count": 356,
   "metadata": {
    "ExecuteTime": {
     "end_time": "2020-04-02T14:26:50.504086Z",
     "start_time": "2020-04-02T14:26:50.500686Z"
    }
   },
   "outputs": [],
   "source": [
    "def softmax1(z):\n",
    "    \n",
    "    smax=[]\n",
    "    if z.ndim==1:\n",
    "  \n",
    "        smax = (np.exp(z))/(np.sum(np.exp(z)))\n",
    "    else:\n",
    "        smax = (np.exp(z))/(np.sum(np.exp(z),axis=1).reshape(-1,1))\n",
    "        \n",
    "    return smax"
   ]
  },
  {
   "cell_type": "code",
   "execution_count": 357,
   "metadata": {},
   "outputs": [],
   "source": [
    "def softmax(x):\n",
    "\n",
    "    x = x - np.max(x)\n",
    "    exp_x = np.exp(x)\n",
    "    softmax_x = exp_x / np.sum(exp_x)\n",
    "    return softmax_x"
   ]
  },
  {
   "cell_type": "markdown",
   "metadata": {},
   "source": [
    " Now you need to implement the categorical cross entropy loss by slightly modifying the function from Assignment 1 to depend only on the true label `y` and the class probabilities vector `y_preds`:"
   ]
  },
  {
   "cell_type": "code",
   "execution_count": 358,
   "metadata": {
    "ExecuteTime": {
     "end_time": "2020-04-02T14:26:51.360838Z",
     "start_time": "2020-04-02T14:26:51.356935Z"
    }
   },
   "outputs": [],
   "source": [
    "def categorical_loss(y, y_preds):\n",
    "\n",
    "\n",
    "    for i in range(1,(len(y_preds)+1)):\n",
    "        if y==i:\n",
    "\n",
    "            l=-np.log(y_preds[i-1])\n",
    "\n",
    "       \n",
    "    return l"
   ]
  },
  {
   "cell_type": "code",
   "execution_count": 359,
   "metadata": {},
   "outputs": [
    {
     "name": "stdout",
     "output_type": "stream",
     "text": [
      "y_preds:  [0.01217919 0.27035308 0.24462558 0.02710529 0.44573687]\n",
      "loss: 1.3080264848567502\n"
     ]
    }
   ],
   "source": [
    "# example for 5 classes\n",
    "\n",
    "y = 2 #true label\n",
    "y_preds = softmax(np.array([[-2.1,1.,0.9,-1.3,1.5]]))[0]\n",
    "\n",
    "print('y_preds: ',y_preds)\n",
    "print('loss:', categorical_loss(y, y_preds))"
   ]
  },
  {
   "cell_type": "markdown",
   "metadata": {
    "ExecuteTime": {
     "end_time": "2020-03-31T15:02:56.149535Z",
     "start_time": "2020-03-31T15:02:56.145738Z"
    }
   },
   "source": [
    "Then, implement the `relu` function to introduce non-linearity after each hidden layer of your network (during the forward pass): \n",
    "\n",
    "$$relu(z_i)= max(z_i,0)$$\n",
    "\n",
    "and the `relu_derivative` function to compute its derivative (used in the backward pass):\n",
    "\n",
    "\\begin{equation}\n",
    "  \\text{relu_derivative}(z_i)=\\begin{cases}\n",
    "    0, & \\text{if $z_i<=0$}.\\\\\n",
    "    1, & \\text{otherwise}.\n",
    "  \\end{cases}\n",
    "\\end{equation}\n",
    "\n",
    "Note that both functions take as input a vector $z$ \n",
    "\n",
    "Hint use .copy() to avoid in place changes in array z"
   ]
  },
  {
   "cell_type": "code",
   "execution_count": 360,
   "metadata": {
    "ExecuteTime": {
     "end_time": "2020-04-02T14:26:52.665236Z",
     "start_time": "2020-04-02T14:26:52.661519Z"
    }
   },
   "outputs": [],
   "source": [
    "\n",
    "def relu(z):\n",
    "    x=z.copy()\n",
    "    for i in range(0,len(x)):\n",
    "        if x[i]<0:\n",
    "            x[i]=0\n",
    "        \n",
    "    return x\n",
    "    \n",
    "\n",
    "def relu_derivative(z):\n",
    "    dz=z.copy()\n",
    "    \n",
    "    for i in range(0,len(dz)):\n",
    "        \n",
    "            if dz[i]<=0:\n",
    "                dz[i]=0\n",
    "            if dz[i]>0:\n",
    "                dz[i]=1\n",
    "   \n",
    "    return dz"
   ]
  },
  {
   "cell_type": "markdown",
   "metadata": {},
   "source": [
    "During training you should also apply a dropout mask element-wise after the activation function (i.e. vector of ones with a random percentage set to zero). The `dropout_mask` function takes as input:\n",
    "\n",
    "- `size`: the size of the vector that we want to apply dropout\n",
    "- `dropout_rate`: the percentage of elements that will be randomly set to zeros\n",
    "\n",
    "and returns:\n",
    "\n",
    "- `dropout_vec`: a vector with binary values (0 or 1)"
   ]
  },
  {
   "cell_type": "code",
   "execution_count": 361,
   "metadata": {
    "ExecuteTime": {
     "end_time": "2020-04-02T14:26:53.429192Z",
     "start_time": "2020-04-02T14:26:53.425301Z"
    }
   },
   "outputs": [],
   "source": [
    "def dropout_mask(size, dropout_rate):\n",
    "    \n",
    "    numn_0=int(dropout_rate*size)\n",
    "    dropout_vec = np.ones(size)\n",
    "    dropout_vec[:numn_0] = 0\n",
    "    np.random.shuffle(dropout_vec)\n",
    "    \n",
    "    return dropout_vec\n",
    "    \n",
    "    "
   ]
  },
  {
   "cell_type": "code",
   "execution_count": 362,
   "metadata": {},
   "outputs": [
    {
     "name": "stdout",
     "output_type": "stream",
     "text": [
      "[1. 1. 1. 1. 0. 1. 0. 1. 1. 1.]\n",
      "[1. 1. 1. 1. 1. 0. 1. 0. 1. 1.]\n"
     ]
    }
   ],
   "source": [
    "print(dropout_mask(10, 0.2))\n",
    "print(dropout_mask(10, 0.2))"
   ]
  },
  {
   "cell_type": "markdown",
   "metadata": {},
   "source": [
    "Now you need to implement the `forward_pass` function that passes the input x through the network up to the output layer for computing the probability for each class using the weight matrices in `W`. The ReLU activation function should be applied on each hidden layer. \n",
    "\n",
    "- `x`: a list of vocabulary indices each corresponding to a word in the document (input)\n",
    "- `W`: a list of weight matrices connecting each part of the network, e.g. for a network with a hidden and an output layer: W[0] is the weight matrix that connects the input to the first hidden layer, W[1] is the weight matrix that connects the hidden layer to the output layer.\n",
    "- `dropout_rate`: the dropout rate that is used to generate a random dropout mask vector applied after each hidden layer for regularisation.\n",
    "\n",
    "and returns:\n",
    "\n",
    "- `out_vals`: a dictionary of output values from each layer: h (the vector before the activation function), a (the resulting vector after passing h from the activation function), its dropout mask vector; and the prediction vector (probability for each class) from the output layer."
   ]
  },
  {
   "cell_type": "code",
   "execution_count": 364,
   "metadata": {},
   "outputs": [
    {
     "name": "stdout",
     "output_type": "stream",
     "text": [
      "Shape W0 (3, 4)\n",
      "Shape W1 (4, 5)\n",
      "Shape W2 (5, 2)\n",
      "\n",
      "{'h': [array([-0.04668262, -0.12518335,  0.17532285, -0.32932054]), array([-0.01851934,  0.04051238, -0.05942235,  0.01765476,  0.0641444 ])], 'a': [array([0.        , 0.        , 0.17532285, 0.        ]), array([0.        , 0.04051238, 0.        , 0.01765476, 0.0641444 ])], 'd': [array([1., 0., 1., 0.]), array([0., 0., 1., 1., 1.])], 'y': array([0.48946732, 0.51053268])}\n"
     ]
    }
   ],
   "source": [
    "W = network_weights(vocab_size=3,embedding_dim=4,hidden_dim=[5], num_classes=2)\n",
    "\n",
    "for i in range(len(W)):\n",
    "    print('Shape W'+str(i), W[i].shape)        \n",
    "\n",
    "print()\n",
    "print(forward_pass([2,1], W, dropout_rate=0.5))"
   ]
  },
  {
   "cell_type": "code",
   "execution_count": null,
   "metadata": {},
   "outputs": [],
   "source": [
    "def forward_pass(x, W, dropout_rate=0.2):\n",
    "        \n",
    "    out_vals = {}\n",
    "    \n",
    "    # how many w\n",
    "    k=len(W)\n",
    "    \n",
    "    # first layer\n",
    "    h_vecs = [W[0][x].sum(axis=0)/len(x)]\n",
    "    a_vecs = [relu(h_vecs[0])]\n",
    "    dropout_vecs = [dropout_mask(W[0].shape[1],dropout_rate)]\n",
    "    \n",
    "    # other layer\n",
    "    for i in range(1,k-1):\n",
    "        h_vecs.append(np.matmul(a_vecs[i-1]*dropout_vecs[i-1],W[i]))\n",
    "        \n",
    "        a_vecs.append(relu(h_vecs[i]))\n",
    "        \n",
    "        dropout_vecs.append(dropout_mask(W[i].shape[1],dropout_rate))\n",
    "        \n",
    "    y=softmax(np.matmul(a_vecs[-1]*dropout_vecs[-1],W[k-1]))\n",
    "    \n",
    "    \n",
    "       \n",
    "    out_vals['h'] = h_vecs\n",
    "    out_vals['a'] = a_vecs\n",
    "    out_vals['d'] = dropout_vecs\n",
    "    out_vals['y'] = y\n",
    "    \n",
    "    return out_vals"
   ]
  },
  {
   "cell_type": "markdown",
   "metadata": {},
   "source": [
    "The `backward_pass` function computes the gradients and update the weights for each matrix in the network from the output to the input. It takes as input \n",
    "\n",
    "- `x`: a list of vocabulary indices each corresponding to a word in the document (input)\n",
    "- `y`: the true label\n",
    "- `W`: a list of weight matrices connecting each part of the network, e.g. for a network with a hidden and an output layer: W[0] is the weight matrix that connects the input to the first hidden layer, W[1] is the weight matrix that connects the hidden layer to the output layer.\n",
    "- `out_vals`: a dictionary of output values from a forward pass.\n",
    "- `learning_rate`: the learning rate for updating the weights.\n",
    "- `freeze_emb`: boolean value indicating whether the embedding weights will be updated.\n",
    "\n",
    "and returns:\n",
    "\n",
    "- `W`: the updated weights of the network.\n",
    "\n",
    "Hint: the gradients on the output layer are similar to the multiclass logistic regression."
   ]
  },
  {
   "cell_type": "code",
   "execution_count": 609,
   "metadata": {},
   "outputs": [],
   "source": [
    "def backward_pass(x, y, W, out_vals, lr=0.001, freeze_emb=False):\n",
    "    \n",
    "    y_p=out_vals['y']\n",
    "    h=out_vals['h']\n",
    "    d=out_vals['d']\n",
    "    a=out_vals['a']\n",
    "    \n",
    "    # get g\n",
    "    y_onehot=np.zeros_like(y_p)\n",
    "    y_onehot[y-1]=1\n",
    "    g=y_p-y_onehot\n",
    "    \n",
    "    for i in range(len(W)-1,0,-1):\n",
    "        W_d=np.outer(a[i-1]*d[i-1],g)\n",
    "        W_new=W[i]-lr*W_d\n",
    "        g=np.matmul(g,W[i].T)\n",
    "        W[i]=W_new\n",
    "        g=g*relu_derivative(h[i-1])\n",
    "      \n",
    "    #if need to update emb layer    \n",
    "    if  freeze_emb==False:\n",
    "        for wordid in x:\n",
    "        \n",
    "            W[0][wordid]=W[0][wordid]-lr*g/len(x)\n",
    "            \n",
    "    return W"
   ]
  },
  {
   "cell_type": "markdown",
   "metadata": {
    "ExecuteTime": {
     "end_time": "2020-02-15T14:08:59.937442Z",
     "start_time": "2020-02-15T14:08:59.932221Z"
    }
   },
   "source": [
    "Finally you need to modify SGD to support back-propagation by using the `forward_pass` and `backward_pass` functions.\n",
    "\n",
    "The `SGD` function takes as input:\n",
    "\n",
    "- `X_tr`: array of training data (vectors)\n",
    "- `Y_tr`: labels of `X_tr`\n",
    "- `W`: the weights of the network (dictionary)\n",
    "- `X_dev`: array of development (i.e. validation) data (vectors)\n",
    "- `Y_dev`: labels of `X_dev`\n",
    "- `lr`: learning rate\n",
    "- `dropout`: regularisation strength\n",
    "- `epochs`: number of full passes over the training data\n",
    "- `tolerance`: stop training if the difference between the current and previous validation loss is smaller than a threshold\n",
    "- `freeze_emb`: boolean value indicating whether the embedding weights will be updated (to be used by the backward pass function).\n",
    "- `print_progress`: flag for printing the training progress (train/validation loss)\n",
    "\n",
    "\n",
    "and returns:\n",
    "\n",
    "- `weights`: the weights learned\n",
    "- `training_loss_history`: an array with the average losses of the whole training set after each epoch\n",
    "- `validation_loss_history`: an array with the average losses of the whole development set after each epoch"
   ]
  },
  {
   "cell_type": "code",
   "execution_count": 582,
   "metadata": {
    "ExecuteTime": {
     "end_time": "2020-04-02T15:09:19.021428Z",
     "start_time": "2020-04-02T15:09:19.017835Z"
    }
   },
   "outputs": [],
   "source": [
    "def SGD(X_tr, Y_tr, W, X_dev=[], Y_dev=[], lr=0.01, \n",
    "        dropout=0.2, epochs=5, tolerance=0.001, freeze_emb=False, print_progress=True):\n",
    "    \n",
    "    training_loss_history=[]\n",
    "    validation_loss_history=[]\n",
    "    \n",
    "    for j in range(0,epochs): \n",
    "        \n",
    "        loss_epoch_train=0\n",
    "      \n",
    "        for i in range(0,len(X_tr)):   \n",
    "            \n",
    "\n",
    "          \n",
    "                \n",
    "            layer_outputs_train = forward_pass(X_tr[i],W,dropout_rate=dropout)\n",
    "            \n",
    "            # compute loss\n",
    "            loss_train_=categorical_loss(Y_tr[i],layer_outputs_train['y'])\n",
    "          \n",
    "            loss_epoch_train=loss_epoch_train+loss_train_\n",
    "         \n",
    "            #  backward_pass  update W\n",
    "            W=backward_pass(X_tr[i], Y_tr[i], W, layer_outputs_train, lr=lr, freeze_emb=False)   \n",
    "            \n",
    "          \n",
    "            \n",
    "\n",
    "        #  dev loss      \n",
    "        loss_epoch_dev=0    \n",
    "        for m in range(0,len(X_dev)):            \n",
    "         \n",
    "            layer_outputs_dev = forward_pass(X_dev[m],W,dropout_rate=dropout)\n",
    "            loss_dev_=categorical_loss(Y_dev[m],layer_outputs_dev['y'])\n",
    "            loss_epoch_dev+=loss_dev_\n",
    "             \n",
    "            \n",
    "         \n",
    "        loss_train=loss_epoch_train/len(X_tr)\n",
    "        loss_dev=loss_epoch_dev/len(X_dev)\n",
    "\n",
    "        training_loss_history.append(loss_train)\n",
    "        validation_loss_history.append(loss_dev)\n",
    "    \n",
    "        print('train loss:',loss_train,'dev loss:',loss_dev)\n",
    "\n",
    "    \n",
    "    \n",
    "    \n",
    "    \n",
    "    \n",
    "    \n",
    "    return W, training_loss_history, validation_loss_history"
   ]
  },
  {
   "cell_type": "markdown",
   "metadata": {
    "ExecuteTime": {
     "end_time": "2020-02-15T14:10:15.772383Z",
     "start_time": "2020-02-15T14:10:15.767855Z"
    }
   },
   "source": [
    "Now you are ready to train and evaluate you neural net. First, you need to define your network using the `network_weights` function followed by SGD with backprop:"
   ]
  },
  {
   "cell_type": "code",
   "execution_count": 680,
   "metadata": {
    "scrolled": true
   },
   "outputs": [
    {
     "name": "stdout",
     "output_type": "stream",
     "text": [
      "Shape W0 (8000, 300)\n",
      "Shape W1 (300, 3)\n",
      "train loss: 1.0745520450138664 dev loss: 1.1177999818746105\n",
      "train loss: 1.0472133692615184 dev loss: 1.102018272162284\n",
      "train loss: 1.021455326308294 dev loss: 1.0741253976719938\n",
      "train loss: 0.9984310298129425 dev loss: 1.0543420628912212\n",
      "train loss: 0.9638401416954815 dev loss: 1.025018926267671\n",
      "train loss: 0.9367917350565768 dev loss: 1.0181085361505964\n",
      "train loss: 0.9044367210149905 dev loss: 1.0036692568528187\n",
      "train loss: 0.8738388667554083 dev loss: 0.9822880397207374\n",
      "train loss: 0.8394050691131235 dev loss: 0.9476375802814101\n",
      "train loss: 0.8034130929344238 dev loss: 0.9310531609358346\n",
      "train loss: 0.7656888666706257 dev loss: 0.8923344347372463\n",
      "train loss: 0.7379346195822959 dev loss: 0.8723828159250848\n",
      "train loss: 0.699481110416521 dev loss: 0.8626944817237027\n",
      "train loss: 0.667398911901719 dev loss: 0.812326883955915\n",
      "train loss: 0.6351872909597769 dev loss: 0.7846447209521563\n",
      "train loss: 0.6091985083135067 dev loss: 0.7694804481010131\n",
      "train loss: 0.5823401734839808 dev loss: 0.7532304164160867\n",
      "train loss: 0.5615423316303797 dev loss: 0.7206305920975384\n",
      "train loss: 0.5330981795292917 dev loss: 0.6916157148381835\n",
      "train loss: 0.5123178533481344 dev loss: 0.6688923086448989\n",
      "train loss: 0.49133137453913295 dev loss: 0.6500174053402267\n",
      "train loss: 0.46918376985742677 dev loss: 0.6288184537470939\n",
      "train loss: 0.45942772322776204 dev loss: 0.619179975353989\n",
      "train loss: 0.42987731975907384 dev loss: 0.5861060820171335\n",
      "train loss: 0.4162484152838662 dev loss: 0.5641073924364468\n",
      "train loss: 0.408045080571125 dev loss: 0.5871936344389068\n",
      "train loss: 0.3882092253175341 dev loss: 0.5691688611330301\n",
      "train loss: 0.3781180487654493 dev loss: 0.5445657494129714\n",
      "train loss: 0.36331007291520306 dev loss: 0.5037049894581291\n",
      "train loss: 0.34763741970854317 dev loss: 0.5099870529681702\n",
      "train loss: 0.33976998156771465 dev loss: 0.5270617054295362\n",
      "train loss: 0.3219885689231124 dev loss: 0.5072931093993035\n",
      "train loss: 0.31108367979745355 dev loss: 0.4700060452004204\n",
      "train loss: 0.3035239624166936 dev loss: 0.49926623156886735\n",
      "train loss: 0.2930370795823674 dev loss: 0.5010697732927331\n",
      "train loss: 0.28719609799380946 dev loss: 0.454823743687029\n",
      "train loss: 0.2765691398867966 dev loss: 0.4769191368612032\n",
      "train loss: 0.26689633078754277 dev loss: 0.4717128929609519\n",
      "train loss: 0.2554648345892313 dev loss: 0.44600959907545745\n",
      "train loss: 0.2529462654521698 dev loss: 0.45694341277377293\n"
     ]
    }
   ],
   "source": [
    "\n",
    "W = network_weights(vocab_size=len(vocab_train),embedding_dim=300,hidden_dim=[], num_classes=3)\n",
    "\n",
    "for i in range(len(W)):\n",
    "    print('Shape W'+str(i), W[i].shape)\n",
    "\n",
    "W, loss_tr, dev_loss = SGD(X_tr, Y_train,\n",
    "                            W,\n",
    "                            X_dev=X_dev, \n",
    "                            Y_dev=Y_dev,\n",
    "                            lr=0.01, \n",
    "                            dropout=0.4,\n",
    "                            freeze_emb=False,\n",
    "                            tolerance=0.01,   \n",
    "                            epochs=40)"
   ]
  },
  {
   "cell_type": "markdown",
   "metadata": {},
   "source": [
    "#### Plot the learning process:"
   ]
  },
  {
   "cell_type": "code",
   "execution_count": 681,
   "metadata": {
    "ExecuteTime": {
     "end_time": "2020-04-02T14:27:15.716497Z",
     "start_time": "2020-04-02T14:27:15.612736Z"
    },
    "scrolled": true
   },
   "outputs": [
    {
     "data": {
      "image/png": "[encoded data removed]",
      "text/plain": [
       "<Figure size 480x344 with 1 Axes>"
      ]
     },
     "metadata": {
      "needs_background": "light"
     },
     "output_type": "display_data"
    }
   ],
   "source": [
    "from matplotlib import pyplot as plt\n",
    "plt.figure(figsize=(6, 4.3), dpi=80)\n",
    "plt.title(\"Training Monitoring\")\n",
    "plt.xlabel(\"times\")\n",
    "plt.ylabel(\"loss\")\n",
    "\n",
    "\n",
    "\n",
    "plt.plot(loss_tr,color='blue',linewidth=3.0)\n",
    "plt.plot(dev_loss,color='orange',linewidth=3.0)\n",
    "\n",
    "\n",
    "plt.show()"
   ]
  },
  {
   "cell_type": "markdown",
   "metadata": {},
   "source": [
    "Compute accuracy, precision, recall and F1-Score:"
   ]
  },
  {
   "cell_type": "code",
   "execution_count": 682,
   "metadata": {},
   "outputs": [],
   "source": [
    "Y_test=get_Y(test_sets_list)\n",
    "Y_test = [i-1 for i in Y_test]"
   ]
  },
  {
   "cell_type": "code",
   "execution_count": 683,
   "metadata": {
    "ExecuteTime": {
     "end_time": "2020-04-02T15:10:11.037495Z",
     "start_time": "2020-04-02T15:10:11.034999Z"
    },
    "scrolled": true
   },
   "outputs": [
    {
     "name": "stdout",
     "output_type": "stream",
     "text": [
      "Accuracy: 0.8422222222222222\n",
      "Precision: 0.8438186586378614\n",
      "Recall: 0.8422222222222223\n",
      "F1-Score: 0.8417679481713213\n"
     ]
    }
   ],
   "source": [
    "preds_te = [np.argmax(forward_pass(x, W, dropout_rate=0.0)['y']) for x,y in zip(X_test,Y_test)]\n",
    "print('Accuracy:', accuracy_score(Y_test,preds_te))\n",
    "print('Precision:', precision_score(Y_test,preds_te,average='macro'))\n",
    "print('Recall:', recall_score(Y_test,preds_te,average='macro'))\n",
    "print('F1-Score:', f1_score(Y_test,preds_te,average='macro'))"
   ]
  },
  {
   "cell_type": "markdown",
   "metadata": {},
   "source": [
    "### Discuss how did you choose model hyperparameters ? "
   ]
  },
  {
   "cell_type": "code",
   "execution_count": null,
   "metadata": {},
   "outputs": [],
   "source": [
    "# When i use lr= 0.005,Loss is falling very slowly.\n",
    "#So I decided to increase the value of lr.\n",
    "\n",
    "\n",
    "# When i use lr= 0.1,the loss  value will fluctuate when it drops to 0.3, but it will not drop.\n",
    "# I think we should reduce the learning rate at this time.\n",
    "#If the learning rate is set too small, the convergence rate will be greatly reduced and the training time will be increased; \n",
    "#if the learning rate is too large, the parameters may oscillate back and forth on both sides of the optimal solution.\n",
    "\n",
    "#  When dropout = 0.2, the loss gap between traindata and dev data is 0.3\n",
    "#  When dropout = 0.4, the loss gap between traindata and dev data is only 0.2，but then become bigger\n",
    "# But use dropout = 0.4,the Accuracy inceeased from 0.82 to 0.84 ,so i choose to use dropout = 0.4."
   ]
  },
  {
   "cell_type": "markdown",
   "metadata": {},
   "source": [
    "# Use Pre-trained Embeddings\n",
    "\n",
    "Now re-train the network using GloVe pre-trained embeddings. You need to modify the `backward_pass` function above to stop computing gradients and updating weights of the embedding matrix.\n",
    "\n",
    "Use the function below to obtain the embedding martix for your vocabulary."
   ]
  },
  {
   "cell_type": "code",
   "execution_count": 670,
   "metadata": {
    "ExecuteTime": {
     "end_time": "2020-04-02T14:27:32.020697Z",
     "start_time": "2020-04-02T14:27:32.015733Z"
    }
   },
   "outputs": [],
   "source": [
    "def get_glove_embeddings(f_zip, f_txt, word2id, emb_size=300):\n",
    "    \n",
    "    w_emb = np.zeros((len(word2id), emb_size))\n",
    "    \n",
    "    with zipfile.ZipFile(f_zip) as z:\n",
    "        with z.open(f_txt) as f:\n",
    "            for line in f:\n",
    "                line = line.decode('utf-8')\n",
    "                word = line.split()[0]\n",
    "                     \n",
    "                if word in vocab_train:\n",
    "\n",
    "                    emb = np.array(line.strip('\\n').split()[1:]).astype(np.float32)\n",
    "                    w_emb[word2id[word]] +=emb\n",
    "    return w_emb"
   ]
  },
  {
   "cell_type": "code",
   "execution_count": 671,
   "metadata": {
    "ExecuteTime": {
     "end_time": "2020-04-02T14:28:54.548613Z",
     "start_time": "2020-04-02T14:27:32.780248Z"
    },
    "scrolled": false
   },
   "outputs": [],
   "source": [
    "w_glove = get_glove_embeddings(\"glove.840B.300d.zip\",\"glove.840B.300d.txt\",vocabulary_word_id)"
   ]
  },
  {
   "cell_type": "markdown",
   "metadata": {},
   "source": [
    "First, initialise the weights of your network using the `network_weights` function. Second, replace the weigths of the embedding matrix with `w_glove`. Finally, train the network by freezing the embedding weights: "
   ]
  },
  {
   "cell_type": "code",
   "execution_count": 687,
   "metadata": {
    "ExecuteTime": {
     "end_time": "2020-04-02T14:30:11.121198Z",
     "start_time": "2020-04-02T14:29:24.946124Z"
    }
   },
   "outputs": [
    {
     "name": "stdout",
     "output_type": "stream",
     "text": [
      "Shape W0 (8000, 300)\n",
      "Shape W1 (300, 3)\n",
      "train loss: 1.0146095589535156 dev loss: 1.0462236786705745\n",
      "train loss: 0.9533227014921215 dev loss: 1.117378066918444\n",
      "train loss: 0.9316880877840475 dev loss: 1.0546458497285582\n",
      "train loss: 0.8982102189839223 dev loss: 0.9878661265445424\n",
      "train loss: 0.8527271338321345 dev loss: 0.9489693597334359\n",
      "train loss: 0.8207514433632603 dev loss: 0.9112836570148392\n",
      "train loss: 0.7962046891842504 dev loss: 0.8863519707588834\n",
      "train loss: 0.7683545176381337 dev loss: 0.8644412548305297\n",
      "train loss: 0.7431257367341848 dev loss: 0.825261374153186\n",
      "train loss: 0.7236558782389844 dev loss: 0.7950691293040999\n",
      "train loss: 0.6969533183919697 dev loss: 0.8232151402367152\n",
      "train loss: 0.6833977451601335 dev loss: 0.7678175553280243\n",
      "train loss: 0.6599306974624355 dev loss: 0.7383008428079401\n",
      "train loss: 0.6548281293939799 dev loss: 0.7114198977186255\n",
      "train loss: 0.6365548839648557 dev loss: 0.7116608744482115\n",
      "train loss: 0.6205509743525681 dev loss: 0.6382414239649336\n",
      "train loss: 0.6076742715888167 dev loss: 0.6852911528286123\n",
      "train loss: 0.6021926816834857 dev loss: 0.6478439485892202\n",
      "train loss: 0.5967726732796835 dev loss: 0.6701352526809932\n",
      "train loss: 0.569604198605925 dev loss: 0.6302438350767728\n",
      "train loss: 0.5692753102515352 dev loss: 0.6122535162527034\n",
      "train loss: 0.5527468675369621 dev loss: 0.615364549182001\n",
      "train loss: 0.5509988456885528 dev loss: 0.6105911235038386\n",
      "train loss: 0.5443484251468184 dev loss: 0.573886446540249\n",
      "train loss: 0.5375216053271464 dev loss: 0.5548574597569687\n",
      "train loss: 0.5204337828566815 dev loss: 0.5960149479834307\n",
      "train loss: 0.5278539576213906 dev loss: 0.5974957462571893\n",
      "train loss: 0.5138893434414639 dev loss: 0.5590347973650234\n",
      "train loss: 0.5102405094929565 dev loss: 0.5264917569644355\n",
      "train loss: 0.495640144357096 dev loss: 0.5512961464563156\n",
      "train loss: 0.4929601008167889 dev loss: 0.5151985215999864\n",
      "train loss: 0.4883071925657573 dev loss: 0.5439873460112352\n",
      "train loss: 0.4861814564617096 dev loss: 0.5067380998234716\n",
      "train loss: 0.47998742379254206 dev loss: 0.5243355687220127\n",
      "train loss: 0.47529355807530416 dev loss: 0.49948435646883393\n",
      "train loss: 0.47021995791053506 dev loss: 0.50587936840425\n",
      "train loss: 0.4666113709619077 dev loss: 0.5061154982745261\n",
      "train loss: 0.44753807904450954 dev loss: 0.4837938036888528\n",
      "train loss: 0.4564152271276209 dev loss: 0.4921526926256555\n",
      "train loss: 0.4490030869689111 dev loss: 0.4572053665430258\n"
     ]
    }
   ],
   "source": [
    "#    initialise the weights of  network :\n",
    "\n",
    "W = network_weights(vocab_size=len(vocab_train),embedding_dim=300,hidden_dim=[], num_classes=3)\n",
    "\n",
    "# replace the weigths of the embedding matrix with w_glove :\n",
    "\n",
    "W[0] =w_glove\n",
    "\n",
    "#  rain the network by freezing the embedding weights :\n",
    "\n",
    "for i in range(len(W)):\n",
    "    print('Shape W'+str(i), W[i].shape)\n",
    "\n",
    "W, loss_tr, dev_loss = SGD(X_tr, Y_train,\n",
    "                            W,\n",
    "                            X_dev=X_dev, \n",
    "                            Y_dev=Y_dev,\n",
    "                            lr=0.001, \n",
    "                            dropout=0.4,\n",
    "                            freeze_emb=True,\n",
    "                            tolerance=0.01,\n",
    "                            epochs=40)"
   ]
  },
  {
   "cell_type": "code",
   "execution_count": 688,
   "metadata": {
    "ExecuteTime": {
     "end_time": "2020-04-02T15:12:00.815184Z",
     "start_time": "2020-04-02T15:12:00.812563Z"
    }
   },
   "outputs": [
    {
     "name": "stdout",
     "output_type": "stream",
     "text": [
      "Accuracy: 0.88\n",
      "Precision: 0.8859626508289834\n",
      "Recall: 0.88\n",
      "F1-Score: 0.8787955847081022\n"
     ]
    }
   ],
   "source": [
    "preds_te = [np.argmax(forward_pass(x, W, dropout_rate=0.0)['y']) for x,y in zip(X_test,Y_test)]\n",
    "print('Accuracy:', accuracy_score(Y_test,preds_te))\n",
    "print('Precision:', precision_score(Y_test,preds_te,average='macro'))\n",
    "print('Recall:', recall_score(Y_test,preds_te,average='macro'))\n",
    "print('F1-Score:', f1_score(Y_test,preds_te,average='macro'))"
   ]
  },
  {
   "cell_type": "markdown",
   "metadata": {},
   "source": [
    "### Discuss how did you choose model hyperparameters ? "
   ]
  },
  {
   "cell_type": "code",
   "execution_count": null,
   "metadata": {},
   "outputs": [],
   "source": [
    "# When i use lr= 0.005,Loss is falling very slowly.\n",
    "#So I decided to increase the value of lr.\n",
    "\n",
    "# When i use lr= 0.1,the loss  value will fluctuate when it drops to 0.3, but it will not drop.\n",
    "# I think we should reduce the learning rate at this time.\n",
    "\n",
    "\n",
    "# I choose epochs=40,because ,i find that after 30 epochs,with the increase of epochs, accuracy did not increase significantly\n",
    "\n",
    "\n",
    "#  When dropout = 0.2, the loss gap between traindata and dev data is 0.3\n",
    "#  When dropout = 0.4, the loss gap between traindata and dev data is only 0.2，but then become bigger\n",
    "# But use dropout = 0.4,the Accuracy inceeased from 0.82 to 0.84 ,so i choose to use dropout = 0.4."
   ]
  },
  {
   "cell_type": "markdown",
   "metadata": {},
   "source": [
    "# Extend to support deeper architectures (Bonus)\n",
    "\n",
    "Extend the network to support back-propagation for more hidden layers. You need to modify the `backward_pass` function above to compute gradients and update the weights between intermediate hidden layers. Finally, train and evaluate a network with a deeper architecture. "
   ]
  },
  {
   "cell_type": "code",
   "execution_count": 698,
   "metadata": {
    "scrolled": true
   },
   "outputs": [
    {
     "name": "stdout",
     "output_type": "stream",
     "text": [
      "Shape W0 (8000, 300)\n",
      "Shape W1 (300, 3)\n",
      "train loss: 1.0076823363102347 dev loss: 1.1042551192785592\n",
      "train loss: 0.9701715582472542 dev loss: 1.1027883279765445\n",
      "train loss: 0.9118547240937227 dev loss: 1.0237588267356321\n",
      "train loss: 0.8592292336840224 dev loss: 0.9890832183076463\n",
      "train loss: 0.8135669988831724 dev loss: 0.9198423881810285\n",
      "train loss: 0.7751838742981961 dev loss: 0.859898272672666\n",
      "train loss: 0.7308276400568332 dev loss: 0.81602112714766\n",
      "train loss: 0.7038185120946924 dev loss: 0.7791040694613965\n",
      "train loss: 0.6744780180248715 dev loss: 0.758725441349712\n",
      "train loss: 0.6455299199940013 dev loss: 0.7465931132980302\n",
      "train loss: 0.6176261887174656 dev loss: 0.7108834543760004\n",
      "train loss: 0.6038094869462691 dev loss: 0.7073897876261633\n",
      "train loss: 0.5814530809884473 dev loss: 0.6565845223538501\n",
      "train loss: 0.5681369533669144 dev loss: 0.6414292320234353\n",
      "train loss: 0.5495423574319479 dev loss: 0.608543990606937\n",
      "train loss: 0.5364582964974474 dev loss: 0.5966726710757697\n",
      "train loss: 0.5120717388161194 dev loss: 0.6054482202937218\n",
      "train loss: 0.49792200507894885 dev loss: 0.5653229912002696\n",
      "train loss: 0.4961539903346637 dev loss: 0.5160774770947337\n",
      "train loss: 0.4839962147754762 dev loss: 0.5545996847755955\n",
      "train loss: 0.4695014348031173 dev loss: 0.5520220663103615\n",
      "train loss: 0.45950257334250855 dev loss: 0.5011791099941726\n",
      "train loss: 0.45340940935492235 dev loss: 0.5283323212839376\n",
      "train loss: 0.44228859709954066 dev loss: 0.47669853799072165\n",
      "train loss: 0.4388664198397536 dev loss: 0.5047587511204753\n",
      "train loss: 0.4329314421503032 dev loss: 0.4736136201897091\n",
      "train loss: 0.4281876758182043 dev loss: 0.4656537451300878\n",
      "train loss: 0.41922410478269706 dev loss: 0.4990431248060802\n",
      "train loss: 0.4145290653385873 dev loss: 0.4576411645241816\n",
      "train loss: 0.4048877776723292 dev loss: 0.4470621829349638\n",
      "train loss: 0.39633739535980633 dev loss: 0.43644510115961027\n",
      "train loss: 0.3881035918221424 dev loss: 0.42927130064264013\n",
      "train loss: 0.38825088580621103 dev loss: 0.4468033515901564\n",
      "train loss: 0.38681917345261335 dev loss: 0.4426041867242038\n",
      "train loss: 0.38000532344458177 dev loss: 0.4435784365234796\n",
      "train loss: 0.37144274189485554 dev loss: 0.4244110600545254\n",
      "train loss: 0.3622376889360892 dev loss: 0.4099958591492467\n",
      "train loss: 0.36380487648861803 dev loss: 0.43928178355798386\n",
      "train loss: 0.3676890933722297 dev loss: 0.4252490419724574\n",
      "train loss: 0.35413534230267635 dev loss: 0.39937545488794124\n"
     ]
    }
   ],
   "source": [
    "#    initialise the weights of  network :\n",
    "\n",
    "W = network_weights(vocab_size=len(vocab_train),embedding_dim=300,hidden_dim=[200,100], num_classes=3)\n",
    "\n",
    "# replace the weigths of the embedding matrix with w_glove :\n",
    "\n",
    "W[0] =w_glove\n",
    "\n",
    "#  rain the network by freezing the embedding weights :\n",
    "\n",
    "for i in range(len(W)):\n",
    "    print('Shape W'+str(i), W[i].shape)\n",
    "\n",
    "W, loss_tr, dev_loss = SGD(X_tr, Y_train,\n",
    "                            W,\n",
    "                            X_dev=X_dev, \n",
    "                            Y_dev=Y_dev,\n",
    "                            lr=0.001, \n",
    "                            dropout=0.2,\n",
    "                            freeze_emb=True,\n",
    "                            tolerance=0.01,\n",
    "                            epochs=40)"
   ]
  },
  {
   "cell_type": "code",
   "execution_count": 699,
   "metadata": {},
   "outputs": [
    {
     "name": "stdout",
     "output_type": "stream",
     "text": [
      "Accuracy: 0.8866666666666667\n",
      "Precision: 0.8891858684381474\n",
      "Recall: 0.8866666666666666\n",
      "F1-Score: 0.8857849831212071\n"
     ]
    }
   ],
   "source": [
    "preds_te = [np.argmax(forward_pass(x, W, dropout_rate=0.0)['y']) for x,y in zip(X_test,Y_test)]\n",
    "print('Accuracy:', accuracy_score(Y_test,preds_te))\n",
    "print('Precision:', precision_score(Y_test,preds_te,average='macro'))\n",
    "print('Recall:', recall_score(Y_test,preds_te,average='macro'))\n",
    "print('F1-Score:', f1_score(Y_test,preds_te,average='macro'))"
   ]
  },
  {
   "cell_type": "markdown",
   "metadata": {},
   "source": [
    "## Full Results\n",
    "\n",
    "Add your final results here:\n",
    "\n",
    "| Model | Precision  | Recall  | F1-Score  | Accuracy\n",
    "|:-:|:-:|:-:|:-:|:-:|\n",
    "| Average Embedding  |  0.842 |   0.844|  0.842 |  0.844 |\n",
    "| Average Embedding (Pre-trained)  |  0.88 |  0.88 |  0.885 |  0.878 |\n",
    "| Average Embedding (Pre-trained) + X hidden layers (BONUS)   |  0.88 |  0.889 | 0.886  | 0.885  |\n"
   ]
  },
  {
   "cell_type": "code",
   "execution_count": null,
   "metadata": {},
   "outputs": [],
   "source": []
  }
 ],
 "metadata": {
  "kernelspec": {
   "display_name": "Python 3",
   "language": "python",
   "name": "python3"
  },
  "language_info": {
   "codemirror_mode": {
    "name": "ipython",
    "version": 3
   },
   "file_extension": ".py",
   "mimetype": "text/x-python",
   "name": "python",
   "nbconvert_exporter": "python",
   "pygments_lexer": "ipython3",
   "version": "3.7.3"
  }
 },
 "nbformat": 4,
 "nbformat_minor": 2
}
